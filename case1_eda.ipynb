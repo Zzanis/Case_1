{
 "cells": [
  {
   "cell_type": "code",
   "execution_count": 1,
   "metadata": {},
   "outputs": [],
   "source": [
    "import pandas as pd\n",
    "import numpy as np\n",
    "import plotly.express as px\n",
    "import plotly.offline as po\n",
    "import os "
   ]
  },
  {
   "cell_type": "markdown",
   "metadata": {},
   "source": [
    "This notebook contains exploration of all the raw data and will conclude with proposals for data transformations and wrangling."
   ]
  },
  {
   "cell_type": "code",
   "execution_count": 2,
   "metadata": {},
   "outputs": [],
   "source": [
    "df = pd.read_csv('_raw/case1Data.txt')"
   ]
  },
  {
   "cell_type": "code",
   "execution_count": 13,
   "metadata": {},
   "outputs": [],
   "source": [
    "# NA values are by default strings, since there is a space in front\n",
    "df = df.replace(' NaN', np.nan)\n"
   ]
  },
  {
   "cell_type": "code",
   "execution_count": 19,
   "metadata": {},
   "outputs": [
    {
     "data": {
      "text/plain": [
       "Index(['y', ' C_ 2', ' C_ 3', ' C_ 4', ' C_ 5'], dtype='object')"
      ]
     },
     "execution_count": 19,
     "metadata": {},
     "output_type": "execute_result"
    }
   ],
   "source": [
    "# only 4 out of 100 cols are complete.\n",
    "# the rest contain NA's and require a decision on what to do\n",
    "df.loc[:,df.isna().sum(axis=0) == 0].columns"
   ]
  },
  {
   "cell_type": "code",
   "execution_count": 23,
   "metadata": {},
   "outputs": [],
   "source": [
    "# isolate targets from the design matrix\n",
    "y = df['y']\n",
    "X = df.iloc[:,1::]"
   ]
  },
  {
   "cell_type": "code",
   "execution_count": 28,
   "metadata": {},
   "outputs": [
    {
     "data": {
      "text/html": [
       "<div>\n",
       "<style scoped>\n",
       "    .dataframe tbody tr th:only-of-type {\n",
       "        vertical-align: middle;\n",
       "    }\n",
       "\n",
       "    .dataframe tbody tr th {\n",
       "        vertical-align: top;\n",
       "    }\n",
       "\n",
       "    .dataframe thead th {\n",
       "        text-align: right;\n",
       "    }\n",
       "</style>\n",
       "<table border=\"1\" class=\"dataframe\">\n",
       "  <thead>\n",
       "    <tr style=\"text-align: right;\">\n",
       "      <th></th>\n",
       "      <th>x_1</th>\n",
       "      <th>x_2</th>\n",
       "      <th>x_3</th>\n",
       "      <th>x_4</th>\n",
       "      <th>x_5</th>\n",
       "      <th>x_6</th>\n",
       "      <th>x_7</th>\n",
       "      <th>x_8</th>\n",
       "      <th>x_9</th>\n",
       "      <th>x_10</th>\n",
       "      <th>...</th>\n",
       "      <th>x_91</th>\n",
       "      <th>x_92</th>\n",
       "      <th>x_93</th>\n",
       "      <th>x_94</th>\n",
       "      <th>x_95</th>\n",
       "      <th>C_1</th>\n",
       "      <th>C_2</th>\n",
       "      <th>C_3</th>\n",
       "      <th>C_4</th>\n",
       "      <th>C_5</th>\n",
       "    </tr>\n",
       "  </thead>\n",
       "  <tbody>\n",
       "    <tr>\n",
       "      <th>0</th>\n",
       "      <td>NaN</td>\n",
       "      <td>NaN</td>\n",
       "      <td>-3.978178</td>\n",
       "      <td>-1.504027</td>\n",
       "      <td>-14.986790</td>\n",
       "      <td>0.651581</td>\n",
       "      <td>-37.878245</td>\n",
       "      <td>16.213807</td>\n",
       "      <td>-3.965437</td>\n",
       "      <td>NaN</td>\n",
       "      <td>...</td>\n",
       "      <td>-7.032047</td>\n",
       "      <td>6.319109</td>\n",
       "      <td>NaN</td>\n",
       "      <td>26.197445</td>\n",
       "      <td>-9.913837</td>\n",
       "      <td>H</td>\n",
       "      <td>H</td>\n",
       "      <td>I</td>\n",
       "      <td>K</td>\n",
       "      <td>J</td>\n",
       "    </tr>\n",
       "    <tr>\n",
       "      <th>1</th>\n",
       "      <td>26.204958</td>\n",
       "      <td>11.185962</td>\n",
       "      <td>-8.247602</td>\n",
       "      <td>-3.875866</td>\n",
       "      <td>-11.329702</td>\n",
       "      <td>2.637900</td>\n",
       "      <td>-39.617497</td>\n",
       "      <td>NaN</td>\n",
       "      <td>-2.442164</td>\n",
       "      <td>10.303557</td>\n",
       "      <td>...</td>\n",
       "      <td>-13.437474</td>\n",
       "      <td>NaN</td>\n",
       "      <td>-12.880342</td>\n",
       "      <td>25.924603</td>\n",
       "      <td>-7.015803</td>\n",
       "      <td>K</td>\n",
       "      <td>H</td>\n",
       "      <td>J</td>\n",
       "      <td>G</td>\n",
       "      <td>G</td>\n",
       "    </tr>\n",
       "    <tr>\n",
       "      <th>2</th>\n",
       "      <td>18.560873</td>\n",
       "      <td>11.355342</td>\n",
       "      <td>-9.370161</td>\n",
       "      <td>-3.745315</td>\n",
       "      <td>-16.292421</td>\n",
       "      <td>-1.831774</td>\n",
       "      <td>-37.584605</td>\n",
       "      <td>14.411348</td>\n",
       "      <td>-2.376175</td>\n",
       "      <td>12.057741</td>\n",
       "      <td>...</td>\n",
       "      <td>-12.291624</td>\n",
       "      <td>2.664209</td>\n",
       "      <td>-15.803518</td>\n",
       "      <td>24.293073</td>\n",
       "      <td>-14.795709</td>\n",
       "      <td>I</td>\n",
       "      <td>H</td>\n",
       "      <td>G</td>\n",
       "      <td>H</td>\n",
       "      <td>G</td>\n",
       "    </tr>\n",
       "    <tr>\n",
       "      <th>3</th>\n",
       "      <td>31.896496</td>\n",
       "      <td>10.069040</td>\n",
       "      <td>-9.484426</td>\n",
       "      <td>-1.512786</td>\n",
       "      <td>-11.421909</td>\n",
       "      <td>-5.649180</td>\n",
       "      <td>-42.830037</td>\n",
       "      <td>18.403197</td>\n",
       "      <td>-7.791762</td>\n",
       "      <td>7.182760</td>\n",
       "      <td>...</td>\n",
       "      <td>-13.253436</td>\n",
       "      <td>5.004891</td>\n",
       "      <td>-13.879328</td>\n",
       "      <td>25.954304</td>\n",
       "      <td>-9.365574</td>\n",
       "      <td>NaN</td>\n",
       "      <td>H</td>\n",
       "      <td>K</td>\n",
       "      <td>K</td>\n",
       "      <td>G</td>\n",
       "    </tr>\n",
       "    <tr>\n",
       "      <th>4</th>\n",
       "      <td>25.400286</td>\n",
       "      <td>NaN</td>\n",
       "      <td>-3.600959</td>\n",
       "      <td>-2.615988</td>\n",
       "      <td>-15.455676</td>\n",
       "      <td>-4.950816</td>\n",
       "      <td>-39.932456</td>\n",
       "      <td>NaN</td>\n",
       "      <td>-7.341165</td>\n",
       "      <td>9.933879</td>\n",
       "      <td>...</td>\n",
       "      <td>NaN</td>\n",
       "      <td>5.101262</td>\n",
       "      <td>-16.938532</td>\n",
       "      <td>22.611184</td>\n",
       "      <td>-17.240003</td>\n",
       "      <td>G</td>\n",
       "      <td>H</td>\n",
       "      <td>H</td>\n",
       "      <td>K</td>\n",
       "      <td>H</td>\n",
       "    </tr>\n",
       "  </tbody>\n",
       "</table>\n",
       "<p>5 rows × 100 columns</p>\n",
       "</div>"
      ],
      "text/plain": [
       "          x_1         x_2         x_3         x_4          x_5         x_6  \\\n",
       "0         NaN         NaN   -3.978178   -1.504027   -14.986790    0.651581   \n",
       "1   26.204958   11.185962   -8.247602   -3.875866   -11.329702    2.637900   \n",
       "2   18.560873   11.355342   -9.370161   -3.745315   -16.292421   -1.831774   \n",
       "3   31.896496   10.069040   -9.484426   -1.512786   -11.421909   -5.649180   \n",
       "4   25.400286         NaN   -3.600959   -2.615988   -15.455676   -4.950816   \n",
       "\n",
       "           x_7         x_8         x_9        x_10  ...         x_91  \\\n",
       "0   -37.878245   16.213807   -3.965437         NaN  ...    -7.032047   \n",
       "1   -39.617497         NaN   -2.442164   10.303557  ...   -13.437474   \n",
       "2   -37.584605   14.411348   -2.376175   12.057741  ...   -12.291624   \n",
       "3   -42.830037   18.403197   -7.791762    7.182760  ...   -13.253436   \n",
       "4   -39.932456         NaN   -7.341165    9.933879  ...          NaN   \n",
       "\n",
       "        x_92         x_93        x_94         x_95  C_1 C_2 C_3 C_4 C_5  \n",
       "0   6.319109          NaN   26.197445    -9.913837    H   H   I   K   J  \n",
       "1        NaN   -12.880342   25.924603    -7.015803    K   H   J   G   G  \n",
       "2   2.664209   -15.803518   24.293073   -14.795709    I   H   G   H   G  \n",
       "3   5.004891   -13.879328   25.954304    -9.365574  NaN   H   K   K   G  \n",
       "4   5.101262   -16.938532   22.611184   -17.240003    G   H   H   K   H  \n",
       "\n",
       "[5 rows x 100 columns]"
      ]
     },
     "execution_count": 28,
     "metadata": {},
     "output_type": "execute_result"
    }
   ],
   "source": [
    "# for convenience, fix the column naming\n",
    "# with no spaces\n",
    "\n",
    "X.columns = [name.replace(' ', '') for name in X.columns]\n",
    "X.head()"
   ]
  },
  {
   "cell_type": "code",
   "execution_count": null,
   "metadata": {},
   "outputs": [],
   "source": [
    "# what to do about the NA's?"
   ]
  }
 ],
 "metadata": {
  "kernelspec": {
   "display_name": "base",
   "language": "python",
   "name": "python3"
  },
  "language_info": {
   "codemirror_mode": {
    "name": "ipython",
    "version": 3
   },
   "file_extension": ".py",
   "mimetype": "text/x-python",
   "name": "python",
   "nbconvert_exporter": "python",
   "pygments_lexer": "ipython3",
   "version": "3.9.12"
  }
 },
 "nbformat": 4,
 "nbformat_minor": 2
}
